{
 "cells": [
  {
   "cell_type": "code",
   "execution_count": 12,
   "metadata": {
    "collapsed": true
   },
   "outputs": [],
   "source": [
    "import gcp.bigquery as bq\n",
    "import pandas as pd\n",
    "import numpy as np\n"
   ]
  },
  {
   "cell_type": "code",
   "execution_count": 13,
   "metadata": {
    "collapsed": false
   },
   "outputs": [
    {
     "data": {
      "text/html": [
       "\n",
       "    <div class=\"bqsv\" id=\"3_146600260478\"></div>\n",
       "    <script>\n",
       "      require(['extensions/bigquery', 'element!3_146600260478', 'style!/static/extensions/bigquery.css'],\n",
       "        function(bq, dom) {\n",
       "          bq.renderSchema(dom, [{\"type\": \"TIMESTAMP\", \"name\": \"pickup_datetime\", \"mode\": \"NULLABLE\"}, {\"type\": \"TIMESTAMP\", \"name\": \"dropoff_datetime\", \"mode\": \"NULLABLE\"}, {\"type\": \"STRING\", \"name\": \"store_and_fwd_flag\", \"mode\": \"NULLABLE\"}, {\"type\": \"INTEGER\", \"name\": \"rate_code\", \"mode\": \"NULLABLE\"}, {\"type\": \"FLOAT\", \"name\": \"pickup_longitude\", \"mode\": \"NULLABLE\"}, {\"type\": \"FLOAT\", \"name\": \"pickup_latitude\", \"mode\": \"NULLABLE\"}, {\"type\": \"FLOAT\", \"name\": \"dropoff_longitude\", \"mode\": \"NULLABLE\"}, {\"type\": \"FLOAT\", \"name\": \"dropoff_latitude\", \"mode\": \"NULLABLE\"}, {\"type\": \"INTEGER\", \"name\": \"passenger_count\", \"mode\": \"NULLABLE\"}, {\"type\": \"FLOAT\", \"name\": \"trip_distance\", \"mode\": \"NULLABLE\"}, {\"type\": \"FLOAT\", \"name\": \"fare_amount\", \"mode\": \"NULLABLE\"}, {\"type\": \"FLOAT\", \"name\": \"extra\", \"mode\": \"NULLABLE\"}, {\"type\": \"FLOAT\", \"name\": \"mta_tax\", \"mode\": \"NULLABLE\"}, {\"type\": \"FLOAT\", \"name\": \"tip_amount\", \"mode\": \"NULLABLE\"}, {\"type\": \"FLOAT\", \"name\": \"tolls_amount\", \"mode\": \"NULLABLE\"}, {\"type\": \"FLOAT\", \"name\": \"ehail_fee\", \"mode\": \"NULLABLE\"}, {\"type\": \"FLOAT\", \"name\": \"total_amount\", \"mode\": \"NULLABLE\"}, {\"type\": \"INTEGER\", \"name\": \"payment_type\", \"mode\": \"NULLABLE\"}, {\"type\": \"FLOAT\", \"name\": \"distance_between_service\", \"mode\": \"NULLABLE\"}, {\"type\": \"INTEGER\", \"name\": \"time_between_service\", \"mode\": \"NULLABLE\"}, {\"type\": \"INTEGER\", \"name\": \"trip_type\", \"mode\": \"NULLABLE\"}]);\n",
       "        }\n",
       "      );\n",
       "    </script>\n",
       "    "
      ],
      "text/plain": [
       "<IPython.core.display.HTML object>"
      ]
     },
     "execution_count": 13,
     "metadata": {},
     "output_type": "execute_result"
    }
   ],
   "source": [
    "%%bigquery schema --table \"nyc-tlc:green.trips_2015\""
   ]
  },
  {
   "cell_type": "code",
   "execution_count": 14,
   "metadata": {
    "collapsed": false
   },
   "outputs": [
    {
     "data": {
      "text/html": [
       "\n",
       "    <div class=\"bqtv\" id=\"4_146600261045\"><table><tr><th>daynumber</th></tr><tr><td>120</td></tr><tr><td>150</td></tr><tr><td>89</td></tr><tr><td>89</td></tr><tr><td>150</td></tr><tr><td>150</td></tr><tr><td>150</td></tr><tr><td>150</td></tr><tr><td>150</td></tr><tr><td>150</td></tr></table></div>\n",
       "    <br />(rows: 10, time: 0.4s, cached, job: job_lI8-wn5eT8OFw8GG_IeXIOSOFxM)<br />\n",
       "    <script>\n",
       "      require(['extensions/charting', 'element!4_146600261045', 'style!/static/extensions/charting.css'],\n",
       "        function(charts, dom) {\n",
       "          charts.render(dom,\n",
       "            {\n",
       "              chartStyle:\"table\",\n",
       "              dataName:\"0\",\n",
       "              fields:\"daynumber\",\n",
       "              totalRows:10,\n",
       "              rowsPerPage:25,\n",
       "            }, {}, {\"rows\": [{\"c\": [{\"v\": 120}]}, {\"c\": [{\"v\": 150}]}, {\"c\": [{\"v\": 89}]}, {\"c\": [{\"v\": 89}]}, {\"c\": [{\"v\": 150}]}, {\"c\": [{\"v\": 150}]}, {\"c\": [{\"v\": 150}]}, {\"c\": [{\"v\": 150}]}, {\"c\": [{\"v\": 150}]}, {\"c\": [{\"v\": 150}]}], \"cols\": [{\"type\": \"number\", \"id\": \"daynumber\", \"label\": \"daynumber\"}]});\n",
       "        }\n",
       "      );\n",
       "    </script>\n",
       "  "
      ],
      "text/plain": [
       "QueryResultsTable job_lI8-wn5eT8OFw8GG_IeXIOSOFxM"
      ]
     },
     "execution_count": 14,
     "metadata": {},
     "output_type": "execute_result"
    }
   ],
   "source": [
    "%%sql\n",
    "SELECT DAYOFYEAR(pickup_datetime) AS daynumber FROM [nyc-tlc:green.trips_2015] LIMIT 10"
   ]
  },
  {
   "cell_type": "code",
   "execution_count": 15,
   "metadata": {
    "collapsed": true
   },
   "outputs": [],
   "source": [
    "%%sql --module taxiquery\n",
    "SELECT daynumber, COUNT(*) AS numtrips FROM\n",
    "    (SELECT DAYOFYEAR(pickup_datetime) AS daynumber FROM [nyc-tlc:green.trips_$YEAR])\n",
    "GROUP BY daynumber ORDER BY daynumber"
   ]
  },
  {
   "cell_type": "code",
   "execution_count": 17,
   "metadata": {
    "collapsed": false
   },
   "outputs": [
    {
     "name": "stdout",
     "output_type": "stream",
     "text": [
      "Just using average=54674.0994475 has RMSE of 10163.4654442\n"
     ]
    }
   ],
   "source": [
    "trips = bq.Query(taxiquery, YEAR=2015).to_dataframe()\n",
    "trips[:5]\n",
    "\n",
    "avg = np.mean(trips['numtrips'])\n",
    "print 'Just using average={0} has RMSE of {1}'.format(avg, np.sqrt(np.mean((trips['numtrips'] - avg)**2)))"
   ]
  },
  {
   "cell_type": "code",
   "execution_count": null,
   "metadata": {
    "collapsed": true
   },
   "outputs": [],
   "source": []
  }
 ],
 "metadata": {
  "kernelspec": {
   "display_name": "Python 2",
   "language": "python",
   "name": "python2"
  },
  "language_info": {
   "codemirror_mode": {
    "name": "ipython",
    "version": 2
   },
   "file_extension": ".py",
   "mimetype": "text/x-python",
   "name": "python",
   "nbconvert_exporter": "python",
   "pygments_lexer": "ipython2",
   "version": "2.7.9"
  }
 },
 "nbformat": 4,
 "nbformat_minor": 0
}
